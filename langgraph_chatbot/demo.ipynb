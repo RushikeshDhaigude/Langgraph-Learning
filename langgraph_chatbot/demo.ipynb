{
 "cells": [
  {
   "cell_type": "code",
   "execution_count": null,
   "id": "1d2d493f",
   "metadata": {},
   "outputs": [],
   "source": []
  },
  {
   "cell_type": "markdown",
   "id": "83cce2d1",
   "metadata": {},
   "source": [
    "#### Youtube video link\n",
    "\n",
    "https://www.youtube.com/playlist?list=PLKnIA16_RmvYsvB8qkUQuJmJNuiCUJFPL"
   ]
  },
  {
   "cell_type": "code",
   "execution_count": null,
   "id": "e9987771",
   "metadata": {},
   "outputs": [],
   "source": []
  },
  {
   "cell_type": "markdown",
   "id": "92513bd3",
   "metadata": {},
   "source": [
    "#### refer this git repo\n",
    "\n",
    "https://github.com/campusx-official/chatbot-in-langgraph"
   ]
  },
  {
   "cell_type": "markdown",
   "id": "baa943d6",
   "metadata": {},
   "source": []
  }
 ],
 "metadata": {
  "language_info": {
   "name": "python"
  }
 },
 "nbformat": 4,
 "nbformat_minor": 5
}
