{
 "cells": [
  {
   "cell_type": "code",
   "execution_count": 7,
   "id": "21539cfa",
   "metadata": {},
   "outputs": [
    {
     "name": "stderr",
     "output_type": "stream",
     "text": [
      "/Users/amber/Documents/Learnings_2024/Langraph_2025/langraph_env/lib/python3.10/site-packages/tqdm/auto.py:21: TqdmWarning: IProgress not found. Please update jupyter and ipywidgets. See https://ipywidgets.readthedocs.io/en/stable/user_install.html\n",
      "  from .autonotebook import tqdm as notebook_tqdm\n"
     ]
    }
   ],
   "source": [
    "from langgraph.graph import StateGraph, START, END\n",
    "from typing import TypedDict\n",
    "from langchain_openai import ChatOpenAI\n",
    "from dotenv import load_dotenv\n",
    "from langgraph.checkpoint.memory import InMemorySaver\n",
    "from langchain_google_genai import ChatGoogleGenerativeAI\n",
    "import google.generativeai as genai\n",
    "import os"
   ]
  },
  {
   "cell_type": "code",
   "execution_count": 8,
   "id": "1827c7ad",
   "metadata": {},
   "outputs": [
    {
     "data": {
      "text/plain": [
       "True"
      ]
     },
     "execution_count": 8,
     "metadata": {},
     "output_type": "execute_result"
    }
   ],
   "source": [
    "# Load environment variables from the .env file\n",
    "load_dotenv()"
   ]
  },
  {
   "cell_type": "code",
   "execution_count": 9,
   "id": "7fb2395b",
   "metadata": {},
   "outputs": [],
   "source": [
    "\n",
    "# # Access the variables\n",
    "gemini_api_key = os.getenv(\"GEMINI_API_KEY\")"
   ]
  },
  {
   "cell_type": "code",
   "execution_count": 10,
   "id": "c94cf921",
   "metadata": {},
   "outputs": [],
   "source": [
    "llm = ChatGoogleGenerativeAI(model='gemini-1.5-flash',google_api_key=gemini_api_key)"
   ]
  },
  {
   "cell_type": "code",
   "execution_count": 11,
   "id": "39e35d2b",
   "metadata": {},
   "outputs": [],
   "source": [
    "\n",
    "class JokeState(TypedDict):\n",
    "\n",
    "    topic: str\n",
    "    joke: str\n",
    "    explanation: str"
   ]
  },
  {
   "cell_type": "code",
   "execution_count": 12,
   "id": "465da51a",
   "metadata": {},
   "outputs": [],
   "source": [
    "def generate_joke(state: JokeState):\n",
    "\n",
    "    prompt = f'generate a joke on the topic {state[\"topic\"]}'\n",
    "    response = llm.invoke(prompt).content\n",
    "\n",
    "    return {'joke': response}"
   ]
  },
  {
   "cell_type": "code",
   "execution_count": 13,
   "id": "d7ec10b5",
   "metadata": {},
   "outputs": [],
   "source": [
    "def generate_explanation(state: JokeState):\n",
    "\n",
    "    prompt = f'write an explanation for the joke - {state[\"joke\"]}'\n",
    "    response = llm.invoke(prompt).content\n",
    "\n",
    "    return {'explanation': response}"
   ]
  },
  {
   "cell_type": "code",
   "execution_count": 14,
   "id": "ab1de240",
   "metadata": {},
   "outputs": [],
   "source": [
    "\n",
    "graph = StateGraph(JokeState)\n",
    "\n",
    "graph.add_node('generate_joke', generate_joke)\n",
    "graph.add_node('generate_explanation', generate_explanation)\n",
    "\n",
    "graph.add_edge(START, 'generate_joke')\n",
    "graph.add_edge('generate_joke', 'generate_explanation')\n",
    "graph.add_edge('generate_explanation', END)\n",
    "\n",
    "checkpointer = InMemorySaver()\n",
    "\n",
    "workflow = graph.compile(checkpointer=checkpointer)"
   ]
  },
  {
   "cell_type": "code",
   "execution_count": 15,
   "id": "17c74ae2",
   "metadata": {},
   "outputs": [
    {
     "data": {
      "text/plain": [
       "{'topic': 'pizza',\n",
       " 'joke': \"Why does the pizza slice like the mushroom so much?\\n\\nBecause he's a fungi!\",\n",
       " 'explanation': 'This is a pun, relying on the similar sound of \"fungi\" (the plural of fungus, a type of mushroom) and \"fun guy\".  The joke plays on the double meaning of \"fungi\" to create a humorous and unexpected connection between a pizza slice and a mushroom.  The pizza slice\\'s liking of the mushroom is a playful pretext to deliver the pun.'}"
      ]
     },
     "execution_count": 15,
     "metadata": {},
     "output_type": "execute_result"
    }
   ],
   "source": [
    "config1 = {\"configurable\": {\"thread_id\": \"1\"}}\n",
    "workflow.invoke({'topic':'pizza'}, config=config1)"
   ]
  },
  {
   "cell_type": "code",
   "execution_count": 16,
   "id": "d07241a9",
   "metadata": {},
   "outputs": [
    {
     "data": {
      "text/plain": [
       "StateSnapshot(values={'topic': 'pizza', 'joke': \"Why does the pizza slice like the mushroom so much?\\n\\nBecause he's a fungi!\", 'explanation': 'This is a pun, relying on the similar sound of \"fungi\" (the plural of fungus, a type of mushroom) and \"fun guy\".  The joke plays on the double meaning of \"fungi\" to create a humorous and unexpected connection between a pizza slice and a mushroom.  The pizza slice\\'s liking of the mushroom is a playful pretext to deliver the pun.'}, next=(), config={'configurable': {'thread_id': '1', 'checkpoint_ns': '', 'checkpoint_id': '1f074103-1a7d-6102-8002-f927965bc002'}}, metadata={'source': 'loop', 'step': 2, 'parents': {}}, created_at='2025-08-08T04:28:54.986557+00:00', parent_config={'configurable': {'thread_id': '1', 'checkpoint_ns': '', 'checkpoint_id': '1f074103-0b5d-660e-8001-91249c6c6983'}}, tasks=(), interrupts=())"
      ]
     },
     "execution_count": 16,
     "metadata": {},
     "output_type": "execute_result"
    }
   ],
   "source": [
    "workflow.get_state(config1)"
   ]
  },
  {
   "cell_type": "code",
   "execution_count": 17,
   "id": "0e9d6bce",
   "metadata": {},
   "outputs": [
    {
     "data": {
      "text/plain": [
       "[StateSnapshot(values={'topic': 'pizza', 'joke': \"Why does the pizza slice like the mushroom so much?\\n\\nBecause he's a fungi!\", 'explanation': 'This is a pun, relying on the similar sound of \"fungi\" (the plural of fungus, a type of mushroom) and \"fun guy\".  The joke plays on the double meaning of \"fungi\" to create a humorous and unexpected connection between a pizza slice and a mushroom.  The pizza slice\\'s liking of the mushroom is a playful pretext to deliver the pun.'}, next=(), config={'configurable': {'thread_id': '1', 'checkpoint_ns': '', 'checkpoint_id': '1f074103-1a7d-6102-8002-f927965bc002'}}, metadata={'source': 'loop', 'step': 2, 'parents': {}}, created_at='2025-08-08T04:28:54.986557+00:00', parent_config={'configurable': {'thread_id': '1', 'checkpoint_ns': '', 'checkpoint_id': '1f074103-0b5d-660e-8001-91249c6c6983'}}, tasks=(), interrupts=()),\n",
       " StateSnapshot(values={'topic': 'pizza', 'joke': \"Why does the pizza slice like the mushroom so much?\\n\\nBecause he's a fungi!\"}, next=('generate_explanation',), config={'configurable': {'thread_id': '1', 'checkpoint_ns': '', 'checkpoint_id': '1f074103-0b5d-660e-8001-91249c6c6983'}}, metadata={'source': 'loop', 'step': 1, 'parents': {}}, created_at='2025-08-08T04:28:53.400710+00:00', parent_config={'configurable': {'thread_id': '1', 'checkpoint_ns': '', 'checkpoint_id': '1f074103-04ba-6fcc-8000-b724dbd58cc2'}}, tasks=(PregelTask(id='ae7c04c5-11a1-c66c-669b-eea0483bf130', name='generate_explanation', path=('__pregel_pull', 'generate_explanation'), error=None, interrupts=(), state=None, result={'explanation': 'This is a pun, relying on the similar sound of \"fungi\" (the plural of fungus, a type of mushroom) and \"fun guy\".  The joke plays on the double meaning of \"fungi\" to create a humorous and unexpected connection between a pizza slice and a mushroom.  The pizza slice\\'s liking of the mushroom is a playful pretext to deliver the pun.'}),), interrupts=()),\n",
       " StateSnapshot(values={'topic': 'pizza'}, next=('generate_joke',), config={'configurable': {'thread_id': '1', 'checkpoint_ns': '', 'checkpoint_id': '1f074103-04ba-6fcc-8000-b724dbd58cc2'}}, metadata={'source': 'loop', 'step': 0, 'parents': {}}, created_at='2025-08-08T04:28:52.705051+00:00', parent_config={'configurable': {'thread_id': '1', 'checkpoint_ns': '', 'checkpoint_id': '1f074103-04b2-64f8-bfff-3ca79d41cd85'}}, tasks=(PregelTask(id='bea0dc87-ca13-5a69-f1f7-d97be860f8de', name='generate_joke', path=('__pregel_pull', 'generate_joke'), error=None, interrupts=(), state=None, result={'joke': \"Why does the pizza slice like the mushroom so much?\\n\\nBecause he's a fungi!\"}),), interrupts=()),\n",
       " StateSnapshot(values={}, next=('__start__',), config={'configurable': {'thread_id': '1', 'checkpoint_ns': '', 'checkpoint_id': '1f074103-04b2-64f8-bfff-3ca79d41cd85'}}, metadata={'source': 'input', 'step': -1, 'parents': {}}, created_at='2025-08-08T04:28:52.701494+00:00', parent_config=None, tasks=(PregelTask(id='1ee21c80-14d7-db8a-da46-c838c72a0786', name='__start__', path=('__pregel_pull', '__start__'), error=None, interrupts=(), state=None, result={'topic': 'pizza'}),), interrupts=())]"
      ]
     },
     "execution_count": 17,
     "metadata": {},
     "output_type": "execute_result"
    }
   ],
   "source": [
    "list(workflow.get_state_history(config1))"
   ]
  },
  {
   "cell_type": "code",
   "execution_count": 18,
   "id": "2011b316",
   "metadata": {},
   "outputs": [
    {
     "data": {
      "text/plain": [
       "{'topic': 'pasta',\n",
       " 'joke': \"Why did the Italian chef quit his job?  Because he didn't get enough *pasta*bilities!\",\n",
       " 'explanation': 'The joke plays on the double meaning of \"pasta-bilities.\"\\n\\n* **Pasta:**  Refers to the Italian food.\\n* **Possibilities:** Refers to opportunities or chances.\\n\\nThe chef quit because he felt his job didn\\'t offer him enough opportunities for growth, creativity, or advancement.  The pun uses the similar-sounding word \"pasta\" to create a humorous and unexpected twist.'}"
      ]
     },
     "execution_count": 18,
     "metadata": {},
     "output_type": "execute_result"
    }
   ],
   "source": [
    "config2 = {\"configurable\": {\"thread_id\": \"2\"}}\n",
    "workflow.invoke({'topic':'pasta'}, config=config2)"
   ]
  },
  {
   "cell_type": "code",
   "execution_count": 19,
   "id": "1c4f013e",
   "metadata": {},
   "outputs": [
    {
     "data": {
      "text/plain": [
       "StateSnapshot(values={'topic': 'pizza', 'joke': \"Why does the pizza slice like the mushroom so much?\\n\\nBecause he's a fungi!\", 'explanation': 'This is a pun, relying on the similar sound of \"fungi\" (the plural of fungus, a type of mushroom) and \"fun guy\".  The joke plays on the double meaning of \"fungi\" to create a humorous and unexpected connection between a pizza slice and a mushroom.  The pizza slice\\'s liking of the mushroom is a playful pretext to deliver the pun.'}, next=(), config={'configurable': {'thread_id': '1', 'checkpoint_ns': '', 'checkpoint_id': '1f074103-1a7d-6102-8002-f927965bc002'}}, metadata={'source': 'loop', 'step': 2, 'parents': {}}, created_at='2025-08-08T04:28:54.986557+00:00', parent_config={'configurable': {'thread_id': '1', 'checkpoint_ns': '', 'checkpoint_id': '1f074103-0b5d-660e-8001-91249c6c6983'}}, tasks=(), interrupts=())"
      ]
     },
     "execution_count": 19,
     "metadata": {},
     "output_type": "execute_result"
    }
   ],
   "source": [
    "workflow.get_state(config1)"
   ]
  },
  {
   "cell_type": "code",
   "execution_count": 20,
   "id": "706fbf00",
   "metadata": {},
   "outputs": [
    {
     "data": {
      "text/plain": [
       "[StateSnapshot(values={'topic': 'pizza', 'joke': \"Why does the pizza slice like the mushroom so much?\\n\\nBecause he's a fungi!\", 'explanation': 'This is a pun, relying on the similar sound of \"fungi\" (the plural of fungus, a type of mushroom) and \"fun guy\".  The joke plays on the double meaning of \"fungi\" to create a humorous and unexpected connection between a pizza slice and a mushroom.  The pizza slice\\'s liking of the mushroom is a playful pretext to deliver the pun.'}, next=(), config={'configurable': {'thread_id': '1', 'checkpoint_ns': '', 'checkpoint_id': '1f074103-1a7d-6102-8002-f927965bc002'}}, metadata={'source': 'loop', 'step': 2, 'parents': {}}, created_at='2025-08-08T04:28:54.986557+00:00', parent_config={'configurable': {'thread_id': '1', 'checkpoint_ns': '', 'checkpoint_id': '1f074103-0b5d-660e-8001-91249c6c6983'}}, tasks=(), interrupts=()),\n",
       " StateSnapshot(values={'topic': 'pizza', 'joke': \"Why does the pizza slice like the mushroom so much?\\n\\nBecause he's a fungi!\"}, next=('generate_explanation',), config={'configurable': {'thread_id': '1', 'checkpoint_ns': '', 'checkpoint_id': '1f074103-0b5d-660e-8001-91249c6c6983'}}, metadata={'source': 'loop', 'step': 1, 'parents': {}}, created_at='2025-08-08T04:28:53.400710+00:00', parent_config={'configurable': {'thread_id': '1', 'checkpoint_ns': '', 'checkpoint_id': '1f074103-04ba-6fcc-8000-b724dbd58cc2'}}, tasks=(PregelTask(id='ae7c04c5-11a1-c66c-669b-eea0483bf130', name='generate_explanation', path=('__pregel_pull', 'generate_explanation'), error=None, interrupts=(), state=None, result={'explanation': 'This is a pun, relying on the similar sound of \"fungi\" (the plural of fungus, a type of mushroom) and \"fun guy\".  The joke plays on the double meaning of \"fungi\" to create a humorous and unexpected connection between a pizza slice and a mushroom.  The pizza slice\\'s liking of the mushroom is a playful pretext to deliver the pun.'}),), interrupts=()),\n",
       " StateSnapshot(values={'topic': 'pizza'}, next=('generate_joke',), config={'configurable': {'thread_id': '1', 'checkpoint_ns': '', 'checkpoint_id': '1f074103-04ba-6fcc-8000-b724dbd58cc2'}}, metadata={'source': 'loop', 'step': 0, 'parents': {}}, created_at='2025-08-08T04:28:52.705051+00:00', parent_config={'configurable': {'thread_id': '1', 'checkpoint_ns': '', 'checkpoint_id': '1f074103-04b2-64f8-bfff-3ca79d41cd85'}}, tasks=(PregelTask(id='bea0dc87-ca13-5a69-f1f7-d97be860f8de', name='generate_joke', path=('__pregel_pull', 'generate_joke'), error=None, interrupts=(), state=None, result={'joke': \"Why does the pizza slice like the mushroom so much?\\n\\nBecause he's a fungi!\"}),), interrupts=()),\n",
       " StateSnapshot(values={}, next=('__start__',), config={'configurable': {'thread_id': '1', 'checkpoint_ns': '', 'checkpoint_id': '1f074103-04b2-64f8-bfff-3ca79d41cd85'}}, metadata={'source': 'input', 'step': -1, 'parents': {}}, created_at='2025-08-08T04:28:52.701494+00:00', parent_config=None, tasks=(PregelTask(id='1ee21c80-14d7-db8a-da46-c838c72a0786', name='__start__', path=('__pregel_pull', '__start__'), error=None, interrupts=(), state=None, result={'topic': 'pizza'}),), interrupts=())]"
      ]
     },
     "execution_count": 20,
     "metadata": {},
     "output_type": "execute_result"
    }
   ],
   "source": [
    "list(workflow.get_state_history(config1))"
   ]
  },
  {
   "cell_type": "markdown",
   "id": "56d9eeec",
   "metadata": {},
   "source": [
    "### Time Travel"
   ]
  },
  {
   "cell_type": "code",
   "execution_count": 22,
   "id": "85446b25",
   "metadata": {},
   "outputs": [
    {
     "data": {
      "text/plain": [
       "StateSnapshot(values={'topic': 'pizza'}, next=('generate_joke',), config={'configurable': {'thread_id': '1', 'checkpoint_id': '1f074103-04ba-6fcc-8000-b724dbd58cc2'}}, metadata={'source': 'loop', 'step': 0, 'parents': {}}, created_at='2025-08-08T04:28:52.705051+00:00', parent_config={'configurable': {'thread_id': '1', 'checkpoint_ns': '', 'checkpoint_id': '1f074103-04b2-64f8-bfff-3ca79d41cd85'}}, tasks=(PregelTask(id='bea0dc87-ca13-5a69-f1f7-d97be860f8de', name='generate_joke', path=('__pregel_pull', 'generate_joke'), error=None, interrupts=(), state=None, result={'joke': \"Why does the pizza slice like the mushroom so much?\\n\\nBecause he's a fungi!\"}),), interrupts=())"
      ]
     },
     "execution_count": 22,
     "metadata": {},
     "output_type": "execute_result"
    }
   ],
   "source": [
    "workflow.get_state({\"configurable\": {\"thread_id\": \"1\", \"checkpoint_id\": \"1f074103-04ba-6fcc-8000-b724dbd58cc2\"}})"
   ]
  },
  {
   "cell_type": "code",
   "execution_count": 23,
   "id": "0ef62b48",
   "metadata": {},
   "outputs": [
    {
     "data": {
      "text/plain": [
       "{'topic': 'pizza',\n",
       " 'joke': \"Why does the pizza slice like the mushroom so much?\\n\\nBecause he's a fungi!\",\n",
       " 'explanation': 'This is a pun, a joke that relies on the similar sound of two words with different meanings.\\n\\n* **Fungi:** This refers to a kingdom of organisms including mushrooms, molds, and yeasts.\\n\\n* **Fun guy:** This is a playful phrase meaning a fun person.\\n\\nThe joke plays on the similar pronunciation of \"fungi\" and \"fun guy.\"  The pizza slice liking the mushroom is a silly premise, but the punchline uses the word \"fungi\" to create a humorous association with \"fun guy,\" suggesting the pizza slice enjoys the mushroom\\'s company because the mushroom is a fun companion.'}"
      ]
     },
     "execution_count": 23,
     "metadata": {},
     "output_type": "execute_result"
    }
   ],
   "source": [
    "workflow.invoke(None, {\"configurable\": {\"thread_id\": \"1\", \"checkpoint_id\": \"1f074103-04ba-6fcc-8000-b724dbd58cc2\"}})"
   ]
  },
  {
   "cell_type": "code",
   "execution_count": 24,
   "id": "544372cd",
   "metadata": {},
   "outputs": [
    {
     "data": {
      "text/plain": [
       "[StateSnapshot(values={'topic': 'pizza', 'joke': \"Why does the pizza slice like the mushroom so much?\\n\\nBecause he's a fungi!\", 'explanation': 'This is a pun, a joke that relies on the similar sound of two words with different meanings.\\n\\n* **Fungi:** This refers to a kingdom of organisms including mushrooms, molds, and yeasts.\\n\\n* **Fun guy:** This is a playful phrase meaning a fun person.\\n\\nThe joke plays on the similar pronunciation of \"fungi\" and \"fun guy.\"  The pizza slice liking the mushroom is a silly premise, but the punchline uses the word \"fungi\" to create a humorous association with \"fun guy,\" suggesting the pizza slice enjoys the mushroom\\'s company because the mushroom is a fun companion.'}, next=(), config={'configurable': {'thread_id': '1', 'checkpoint_ns': '', 'checkpoint_id': '1f074122-43a4-6160-8002-003cd895427e'}}, metadata={'source': 'loop', 'step': 2, 'parents': {}}, created_at='2025-08-08T04:42:51.451619+00:00', parent_config={'configurable': {'thread_id': '1', 'checkpoint_ns': '', 'checkpoint_id': '1f074122-3133-6eb8-8001-49f5d1b5cc73'}}, tasks=(), interrupts=()),\n",
       " StateSnapshot(values={'topic': 'pizza', 'joke': \"Why does the pizza slice like the mushroom so much?\\n\\nBecause he's a fungi!\"}, next=('generate_explanation',), config={'configurable': {'thread_id': '1', 'checkpoint_ns': '', 'checkpoint_id': '1f074122-3133-6eb8-8001-49f5d1b5cc73'}}, metadata={'source': 'loop', 'step': 1, 'parents': {}}, created_at='2025-08-08T04:42:49.518229+00:00', parent_config={'configurable': {'thread_id': '1', 'checkpoint_ns': '', 'checkpoint_id': '1f074103-04ba-6fcc-8000-b724dbd58cc2'}}, tasks=(PregelTask(id='71bb9116-6344-83ea-e34f-9bc11f704a29', name='generate_explanation', path=('__pregel_pull', 'generate_explanation'), error=None, interrupts=(), state=None, result={'explanation': 'This is a pun, a joke that relies on the similar sound of two words with different meanings.\\n\\n* **Fungi:** This refers to a kingdom of organisms including mushrooms, molds, and yeasts.\\n\\n* **Fun guy:** This is a playful phrase meaning a fun person.\\n\\nThe joke plays on the similar pronunciation of \"fungi\" and \"fun guy.\"  The pizza slice liking the mushroom is a silly premise, but the punchline uses the word \"fungi\" to create a humorous association with \"fun guy,\" suggesting the pizza slice enjoys the mushroom\\'s company because the mushroom is a fun companion.'}),), interrupts=()),\n",
       " StateSnapshot(values={'topic': 'pizza', 'joke': \"Why does the pizza slice like the mushroom so much?\\n\\nBecause he's a fungi!\", 'explanation': 'This is a pun, relying on the similar sound of \"fungi\" (the plural of fungus, a type of mushroom) and \"fun guy\".  The joke plays on the double meaning of \"fungi\" to create a humorous and unexpected connection between a pizza slice and a mushroom.  The pizza slice\\'s liking of the mushroom is a playful pretext to deliver the pun.'}, next=(), config={'configurable': {'thread_id': '1', 'checkpoint_ns': '', 'checkpoint_id': '1f074103-1a7d-6102-8002-f927965bc002'}}, metadata={'source': 'loop', 'step': 2, 'parents': {}}, created_at='2025-08-08T04:28:54.986557+00:00', parent_config={'configurable': {'thread_id': '1', 'checkpoint_ns': '', 'checkpoint_id': '1f074103-0b5d-660e-8001-91249c6c6983'}}, tasks=(), interrupts=()),\n",
       " StateSnapshot(values={'topic': 'pizza', 'joke': \"Why does the pizza slice like the mushroom so much?\\n\\nBecause he's a fungi!\"}, next=('generate_explanation',), config={'configurable': {'thread_id': '1', 'checkpoint_ns': '', 'checkpoint_id': '1f074103-0b5d-660e-8001-91249c6c6983'}}, metadata={'source': 'loop', 'step': 1, 'parents': {}}, created_at='2025-08-08T04:28:53.400710+00:00', parent_config={'configurable': {'thread_id': '1', 'checkpoint_ns': '', 'checkpoint_id': '1f074103-04ba-6fcc-8000-b724dbd58cc2'}}, tasks=(PregelTask(id='ae7c04c5-11a1-c66c-669b-eea0483bf130', name='generate_explanation', path=('__pregel_pull', 'generate_explanation'), error=None, interrupts=(), state=None, result={'explanation': 'This is a pun, relying on the similar sound of \"fungi\" (the plural of fungus, a type of mushroom) and \"fun guy\".  The joke plays on the double meaning of \"fungi\" to create a humorous and unexpected connection between a pizza slice and a mushroom.  The pizza slice\\'s liking of the mushroom is a playful pretext to deliver the pun.'}),), interrupts=()),\n",
       " StateSnapshot(values={'topic': 'pizza'}, next=('generate_joke',), config={'configurable': {'thread_id': '1', 'checkpoint_ns': '', 'checkpoint_id': '1f074103-04ba-6fcc-8000-b724dbd58cc2'}}, metadata={'source': 'loop', 'step': 0, 'parents': {}}, created_at='2025-08-08T04:28:52.705051+00:00', parent_config={'configurable': {'thread_id': '1', 'checkpoint_ns': '', 'checkpoint_id': '1f074103-04b2-64f8-bfff-3ca79d41cd85'}}, tasks=(PregelTask(id='bea0dc87-ca13-5a69-f1f7-d97be860f8de', name='generate_joke', path=('__pregel_pull', 'generate_joke'), error=None, interrupts=(), state=None, result={'joke': \"Why does the pizza slice like the mushroom so much?\\n\\nBecause he's a fungi!\"}),), interrupts=()),\n",
       " StateSnapshot(values={}, next=('__start__',), config={'configurable': {'thread_id': '1', 'checkpoint_ns': '', 'checkpoint_id': '1f074103-04b2-64f8-bfff-3ca79d41cd85'}}, metadata={'source': 'input', 'step': -1, 'parents': {}}, created_at='2025-08-08T04:28:52.701494+00:00', parent_config=None, tasks=(PregelTask(id='1ee21c80-14d7-db8a-da46-c838c72a0786', name='__start__', path=('__pregel_pull', '__start__'), error=None, interrupts=(), state=None, result={'topic': 'pizza'}),), interrupts=())]"
      ]
     },
     "execution_count": 24,
     "metadata": {},
     "output_type": "execute_result"
    }
   ],
   "source": [
    "\n",
    "list(workflow.get_state_history(config1))"
   ]
  },
  {
   "cell_type": "markdown",
   "id": "a4f0de89",
   "metadata": {},
   "source": [
    "### Updating state"
   ]
  },
  {
   "cell_type": "code",
   "execution_count": 25,
   "id": "1853f15a",
   "metadata": {},
   "outputs": [
    {
     "data": {
      "text/plain": [
       "{'configurable': {'thread_id': '1',\n",
       "  'checkpoint_ns': '',\n",
       "  'checkpoint_id': '1f074128-9270-6446-8001-b44aecbef41d'}}"
      ]
     },
     "execution_count": 25,
     "metadata": {},
     "output_type": "execute_result"
    }
   ],
   "source": [
    "workflow.update_state({\"configurable\": {\"thread_id\": \"1\", \"checkpoint_id\": \"1f074103-04ba-6fcc-8000-b724dbd58cc2\", \"checkpoint_ns\": \"\"}}, {'topic':'samosa'})"
   ]
  },
  {
   "cell_type": "code",
   "execution_count": 26,
   "id": "288b4765",
   "metadata": {},
   "outputs": [
    {
     "data": {
      "text/plain": [
       "[StateSnapshot(values={'topic': 'samosa'}, next=('generate_joke',), config={'configurable': {'thread_id': '1', 'checkpoint_ns': '', 'checkpoint_id': '1f074128-9270-6446-8001-b44aecbef41d'}}, metadata={'source': 'update', 'step': 1, 'parents': {}}, created_at='2025-08-08T04:45:40.775413+00:00', parent_config={'configurable': {'thread_id': '1', 'checkpoint_ns': '', 'checkpoint_id': '1f074103-04ba-6fcc-8000-b724dbd58cc2'}}, tasks=(PregelTask(id='fe6f5bd9-b8f9-48d6-9b0f-6211c5832d11', name='generate_joke', path=('__pregel_pull', 'generate_joke'), error=None, interrupts=(), state=None, result=None),), interrupts=()),\n",
       " StateSnapshot(values={'topic': 'pizza', 'joke': \"Why does the pizza slice like the mushroom so much?\\n\\nBecause he's a fungi!\", 'explanation': 'This is a pun, a joke that relies on the similar sound of two words with different meanings.\\n\\n* **Fungi:** This refers to a kingdom of organisms including mushrooms, molds, and yeasts.\\n\\n* **Fun guy:** This is a playful phrase meaning a fun person.\\n\\nThe joke plays on the similar pronunciation of \"fungi\" and \"fun guy.\"  The pizza slice liking the mushroom is a silly premise, but the punchline uses the word \"fungi\" to create a humorous association with \"fun guy,\" suggesting the pizza slice enjoys the mushroom\\'s company because the mushroom is a fun companion.'}, next=(), config={'configurable': {'thread_id': '1', 'checkpoint_ns': '', 'checkpoint_id': '1f074122-43a4-6160-8002-003cd895427e'}}, metadata={'source': 'loop', 'step': 2, 'parents': {}}, created_at='2025-08-08T04:42:51.451619+00:00', parent_config={'configurable': {'thread_id': '1', 'checkpoint_ns': '', 'checkpoint_id': '1f074122-3133-6eb8-8001-49f5d1b5cc73'}}, tasks=(), interrupts=()),\n",
       " StateSnapshot(values={'topic': 'pizza', 'joke': \"Why does the pizza slice like the mushroom so much?\\n\\nBecause he's a fungi!\"}, next=('generate_explanation',), config={'configurable': {'thread_id': '1', 'checkpoint_ns': '', 'checkpoint_id': '1f074122-3133-6eb8-8001-49f5d1b5cc73'}}, metadata={'source': 'loop', 'step': 1, 'parents': {}}, created_at='2025-08-08T04:42:49.518229+00:00', parent_config={'configurable': {'thread_id': '1', 'checkpoint_ns': '', 'checkpoint_id': '1f074103-04ba-6fcc-8000-b724dbd58cc2'}}, tasks=(PregelTask(id='71bb9116-6344-83ea-e34f-9bc11f704a29', name='generate_explanation', path=('__pregel_pull', 'generate_explanation'), error=None, interrupts=(), state=None, result={'explanation': 'This is a pun, a joke that relies on the similar sound of two words with different meanings.\\n\\n* **Fungi:** This refers to a kingdom of organisms including mushrooms, molds, and yeasts.\\n\\n* **Fun guy:** This is a playful phrase meaning a fun person.\\n\\nThe joke plays on the similar pronunciation of \"fungi\" and \"fun guy.\"  The pizza slice liking the mushroom is a silly premise, but the punchline uses the word \"fungi\" to create a humorous association with \"fun guy,\" suggesting the pizza slice enjoys the mushroom\\'s company because the mushroom is a fun companion.'}),), interrupts=()),\n",
       " StateSnapshot(values={'topic': 'pizza', 'joke': \"Why does the pizza slice like the mushroom so much?\\n\\nBecause he's a fungi!\", 'explanation': 'This is a pun, relying on the similar sound of \"fungi\" (the plural of fungus, a type of mushroom) and \"fun guy\".  The joke plays on the double meaning of \"fungi\" to create a humorous and unexpected connection between a pizza slice and a mushroom.  The pizza slice\\'s liking of the mushroom is a playful pretext to deliver the pun.'}, next=(), config={'configurable': {'thread_id': '1', 'checkpoint_ns': '', 'checkpoint_id': '1f074103-1a7d-6102-8002-f927965bc002'}}, metadata={'source': 'loop', 'step': 2, 'parents': {}}, created_at='2025-08-08T04:28:54.986557+00:00', parent_config={'configurable': {'thread_id': '1', 'checkpoint_ns': '', 'checkpoint_id': '1f074103-0b5d-660e-8001-91249c6c6983'}}, tasks=(), interrupts=()),\n",
       " StateSnapshot(values={'topic': 'pizza', 'joke': \"Why does the pizza slice like the mushroom so much?\\n\\nBecause he's a fungi!\"}, next=('generate_explanation',), config={'configurable': {'thread_id': '1', 'checkpoint_ns': '', 'checkpoint_id': '1f074103-0b5d-660e-8001-91249c6c6983'}}, metadata={'source': 'loop', 'step': 1, 'parents': {}}, created_at='2025-08-08T04:28:53.400710+00:00', parent_config={'configurable': {'thread_id': '1', 'checkpoint_ns': '', 'checkpoint_id': '1f074103-04ba-6fcc-8000-b724dbd58cc2'}}, tasks=(PregelTask(id='ae7c04c5-11a1-c66c-669b-eea0483bf130', name='generate_explanation', path=('__pregel_pull', 'generate_explanation'), error=None, interrupts=(), state=None, result={'explanation': 'This is a pun, relying on the similar sound of \"fungi\" (the plural of fungus, a type of mushroom) and \"fun guy\".  The joke plays on the double meaning of \"fungi\" to create a humorous and unexpected connection between a pizza slice and a mushroom.  The pizza slice\\'s liking of the mushroom is a playful pretext to deliver the pun.'}),), interrupts=()),\n",
       " StateSnapshot(values={'topic': 'pizza'}, next=('generate_joke',), config={'configurable': {'thread_id': '1', 'checkpoint_ns': '', 'checkpoint_id': '1f074103-04ba-6fcc-8000-b724dbd58cc2'}}, metadata={'source': 'loop', 'step': 0, 'parents': {}}, created_at='2025-08-08T04:28:52.705051+00:00', parent_config={'configurable': {'thread_id': '1', 'checkpoint_ns': '', 'checkpoint_id': '1f074103-04b2-64f8-bfff-3ca79d41cd85'}}, tasks=(PregelTask(id='bea0dc87-ca13-5a69-f1f7-d97be860f8de', name='generate_joke', path=('__pregel_pull', 'generate_joke'), error=None, interrupts=(), state=None, result={'joke': \"Why does the pizza slice like the mushroom so much?\\n\\nBecause he's a fungi!\"}),), interrupts=()),\n",
       " StateSnapshot(values={}, next=('__start__',), config={'configurable': {'thread_id': '1', 'checkpoint_ns': '', 'checkpoint_id': '1f074103-04b2-64f8-bfff-3ca79d41cd85'}}, metadata={'source': 'input', 'step': -1, 'parents': {}}, created_at='2025-08-08T04:28:52.701494+00:00', parent_config=None, tasks=(PregelTask(id='1ee21c80-14d7-db8a-da46-c838c72a0786', name='__start__', path=('__pregel_pull', '__start__'), error=None, interrupts=(), state=None, result={'topic': 'pizza'}),), interrupts=())]"
      ]
     },
     "execution_count": 26,
     "metadata": {},
     "output_type": "execute_result"
    }
   ],
   "source": [
    "list(workflow.get_state_history(config1))"
   ]
  },
  {
   "cell_type": "code",
   "execution_count": 27,
   "id": "4994fd22",
   "metadata": {},
   "outputs": [
    {
     "data": {
      "text/plain": [
       "{'topic': 'samosa',\n",
       " 'joke': 'Why did the samosa get a bad review?  Because it was a little *pastry*.',\n",
       " 'explanation': 'The joke plays on the double meaning of \"pastry.\"\\n\\n* **Pastry (meaning 1):**  Refers to a type of baked or fried dough, which is what a samosa is.  This is the literal meaning in the context of the joke\\'s setup.\\n\\n* **Pastry (meaning 2):**  Refers to something that\\'s past its prime, outdated, or stale.  This is the punchline\\'s meaning.\\n\\nThe humor comes from the unexpected shift in meaning. The listener initially understands \"pastry\" in the culinary sense, relating to the samosa\\'s composition.  The punchline then subverts this expectation by using the word to imply the samosa was old and therefore of poor quality, hence the \"bad review.\"  It\\'s a simple pun relying on wordplay.'}"
      ]
     },
     "execution_count": 27,
     "metadata": {},
     "output_type": "execute_result"
    }
   ],
   "source": [
    "workflow.invoke(None, {\"configurable\": {\"thread_id\": \"1\", \"checkpoint_id\": \"1f074128-9270-6446-8001-b44aecbef41d\"}})"
   ]
  },
  {
   "cell_type": "code",
   "execution_count": 28,
   "id": "5cde7c72",
   "metadata": {},
   "outputs": [
    {
     "data": {
      "text/plain": [
       "[StateSnapshot(values={'topic': 'samosa', 'joke': 'Why did the samosa get a bad review?  Because it was a little *pastry*.', 'explanation': 'The joke plays on the double meaning of \"pastry.\"\\n\\n* **Pastry (meaning 1):**  Refers to a type of baked or fried dough, which is what a samosa is.  This is the literal meaning in the context of the joke\\'s setup.\\n\\n* **Pastry (meaning 2):**  Refers to something that\\'s past its prime, outdated, or stale.  This is the punchline\\'s meaning.\\n\\nThe humor comes from the unexpected shift in meaning. The listener initially understands \"pastry\" in the culinary sense, relating to the samosa\\'s composition.  The punchline then subverts this expectation by using the word to imply the samosa was old and therefore of poor quality, hence the \"bad review.\"  It\\'s a simple pun relying on wordplay.'}, next=(), config={'configurable': {'thread_id': '1', 'checkpoint_ns': '', 'checkpoint_id': '1f07412a-06f4-6e06-8003-588796d9c8d0'}}, metadata={'source': 'loop', 'step': 3, 'parents': {}}, created_at='2025-08-08T04:46:19.836751+00:00', parent_config={'configurable': {'thread_id': '1', 'checkpoint_ns': '', 'checkpoint_id': '1f074129-f09d-6b8a-8002-b33c4ab390d0'}}, tasks=(), interrupts=()),\n",
       " StateSnapshot(values={'topic': 'samosa', 'joke': 'Why did the samosa get a bad review?  Because it was a little *pastry*.'}, next=('generate_explanation',), config={'configurable': {'thread_id': '1', 'checkpoint_ns': '', 'checkpoint_id': '1f074129-f09d-6b8a-8002-b33c4ab390d0'}}, metadata={'source': 'loop', 'step': 2, 'parents': {}}, created_at='2025-08-08T04:46:17.494183+00:00', parent_config={'configurable': {'thread_id': '1', 'checkpoint_ns': '', 'checkpoint_id': '1f074128-9270-6446-8001-b44aecbef41d'}}, tasks=(PregelTask(id='47574fdb-a600-9b3f-217a-98e422d117fc', name='generate_explanation', path=('__pregel_pull', 'generate_explanation'), error=None, interrupts=(), state=None, result={'explanation': 'The joke plays on the double meaning of \"pastry.\"\\n\\n* **Pastry (meaning 1):**  Refers to a type of baked or fried dough, which is what a samosa is.  This is the literal meaning in the context of the joke\\'s setup.\\n\\n* **Pastry (meaning 2):**  Refers to something that\\'s past its prime, outdated, or stale.  This is the punchline\\'s meaning.\\n\\nThe humor comes from the unexpected shift in meaning. The listener initially understands \"pastry\" in the culinary sense, relating to the samosa\\'s composition.  The punchline then subverts this expectation by using the word to imply the samosa was old and therefore of poor quality, hence the \"bad review.\"  It\\'s a simple pun relying on wordplay.'}),), interrupts=()),\n",
       " StateSnapshot(values={'topic': 'samosa'}, next=('generate_joke',), config={'configurable': {'thread_id': '1', 'checkpoint_ns': '', 'checkpoint_id': '1f074128-9270-6446-8001-b44aecbef41d'}}, metadata={'source': 'update', 'step': 1, 'parents': {}}, created_at='2025-08-08T04:45:40.775413+00:00', parent_config={'configurable': {'thread_id': '1', 'checkpoint_ns': '', 'checkpoint_id': '1f074103-04ba-6fcc-8000-b724dbd58cc2'}}, tasks=(PregelTask(id='fe6f5bd9-b8f9-48d6-9b0f-6211c5832d11', name='generate_joke', path=('__pregel_pull', 'generate_joke'), error=None, interrupts=(), state=None, result={'joke': 'Why did the samosa get a bad review?  Because it was a little *pastry*.'}),), interrupts=()),\n",
       " StateSnapshot(values={'topic': 'pizza', 'joke': \"Why does the pizza slice like the mushroom so much?\\n\\nBecause he's a fungi!\", 'explanation': 'This is a pun, a joke that relies on the similar sound of two words with different meanings.\\n\\n* **Fungi:** This refers to a kingdom of organisms including mushrooms, molds, and yeasts.\\n\\n* **Fun guy:** This is a playful phrase meaning a fun person.\\n\\nThe joke plays on the similar pronunciation of \"fungi\" and \"fun guy.\"  The pizza slice liking the mushroom is a silly premise, but the punchline uses the word \"fungi\" to create a humorous association with \"fun guy,\" suggesting the pizza slice enjoys the mushroom\\'s company because the mushroom is a fun companion.'}, next=(), config={'configurable': {'thread_id': '1', 'checkpoint_ns': '', 'checkpoint_id': '1f074122-43a4-6160-8002-003cd895427e'}}, metadata={'source': 'loop', 'step': 2, 'parents': {}}, created_at='2025-08-08T04:42:51.451619+00:00', parent_config={'configurable': {'thread_id': '1', 'checkpoint_ns': '', 'checkpoint_id': '1f074122-3133-6eb8-8001-49f5d1b5cc73'}}, tasks=(), interrupts=()),\n",
       " StateSnapshot(values={'topic': 'pizza', 'joke': \"Why does the pizza slice like the mushroom so much?\\n\\nBecause he's a fungi!\"}, next=('generate_explanation',), config={'configurable': {'thread_id': '1', 'checkpoint_ns': '', 'checkpoint_id': '1f074122-3133-6eb8-8001-49f5d1b5cc73'}}, metadata={'source': 'loop', 'step': 1, 'parents': {}}, created_at='2025-08-08T04:42:49.518229+00:00', parent_config={'configurable': {'thread_id': '1', 'checkpoint_ns': '', 'checkpoint_id': '1f074103-04ba-6fcc-8000-b724dbd58cc2'}}, tasks=(PregelTask(id='71bb9116-6344-83ea-e34f-9bc11f704a29', name='generate_explanation', path=('__pregel_pull', 'generate_explanation'), error=None, interrupts=(), state=None, result={'explanation': 'This is a pun, a joke that relies on the similar sound of two words with different meanings.\\n\\n* **Fungi:** This refers to a kingdom of organisms including mushrooms, molds, and yeasts.\\n\\n* **Fun guy:** This is a playful phrase meaning a fun person.\\n\\nThe joke plays on the similar pronunciation of \"fungi\" and \"fun guy.\"  The pizza slice liking the mushroom is a silly premise, but the punchline uses the word \"fungi\" to create a humorous association with \"fun guy,\" suggesting the pizza slice enjoys the mushroom\\'s company because the mushroom is a fun companion.'}),), interrupts=()),\n",
       " StateSnapshot(values={'topic': 'pizza', 'joke': \"Why does the pizza slice like the mushroom so much?\\n\\nBecause he's a fungi!\", 'explanation': 'This is a pun, relying on the similar sound of \"fungi\" (the plural of fungus, a type of mushroom) and \"fun guy\".  The joke plays on the double meaning of \"fungi\" to create a humorous and unexpected connection between a pizza slice and a mushroom.  The pizza slice\\'s liking of the mushroom is a playful pretext to deliver the pun.'}, next=(), config={'configurable': {'thread_id': '1', 'checkpoint_ns': '', 'checkpoint_id': '1f074103-1a7d-6102-8002-f927965bc002'}}, metadata={'source': 'loop', 'step': 2, 'parents': {}}, created_at='2025-08-08T04:28:54.986557+00:00', parent_config={'configurable': {'thread_id': '1', 'checkpoint_ns': '', 'checkpoint_id': '1f074103-0b5d-660e-8001-91249c6c6983'}}, tasks=(), interrupts=()),\n",
       " StateSnapshot(values={'topic': 'pizza', 'joke': \"Why does the pizza slice like the mushroom so much?\\n\\nBecause he's a fungi!\"}, next=('generate_explanation',), config={'configurable': {'thread_id': '1', 'checkpoint_ns': '', 'checkpoint_id': '1f074103-0b5d-660e-8001-91249c6c6983'}}, metadata={'source': 'loop', 'step': 1, 'parents': {}}, created_at='2025-08-08T04:28:53.400710+00:00', parent_config={'configurable': {'thread_id': '1', 'checkpoint_ns': '', 'checkpoint_id': '1f074103-04ba-6fcc-8000-b724dbd58cc2'}}, tasks=(PregelTask(id='ae7c04c5-11a1-c66c-669b-eea0483bf130', name='generate_explanation', path=('__pregel_pull', 'generate_explanation'), error=None, interrupts=(), state=None, result={'explanation': 'This is a pun, relying on the similar sound of \"fungi\" (the plural of fungus, a type of mushroom) and \"fun guy\".  The joke plays on the double meaning of \"fungi\" to create a humorous and unexpected connection between a pizza slice and a mushroom.  The pizza slice\\'s liking of the mushroom is a playful pretext to deliver the pun.'}),), interrupts=()),\n",
       " StateSnapshot(values={'topic': 'pizza'}, next=('generate_joke',), config={'configurable': {'thread_id': '1', 'checkpoint_ns': '', 'checkpoint_id': '1f074103-04ba-6fcc-8000-b724dbd58cc2'}}, metadata={'source': 'loop', 'step': 0, 'parents': {}}, created_at='2025-08-08T04:28:52.705051+00:00', parent_config={'configurable': {'thread_id': '1', 'checkpoint_ns': '', 'checkpoint_id': '1f074103-04b2-64f8-bfff-3ca79d41cd85'}}, tasks=(PregelTask(id='bea0dc87-ca13-5a69-f1f7-d97be860f8de', name='generate_joke', path=('__pregel_pull', 'generate_joke'), error=None, interrupts=(), state=None, result={'joke': \"Why does the pizza slice like the mushroom so much?\\n\\nBecause he's a fungi!\"}),), interrupts=()),\n",
       " StateSnapshot(values={}, next=('__start__',), config={'configurable': {'thread_id': '1', 'checkpoint_ns': '', 'checkpoint_id': '1f074103-04b2-64f8-bfff-3ca79d41cd85'}}, metadata={'source': 'input', 'step': -1, 'parents': {}}, created_at='2025-08-08T04:28:52.701494+00:00', parent_config=None, tasks=(PregelTask(id='1ee21c80-14d7-db8a-da46-c838c72a0786', name='__start__', path=('__pregel_pull', '__start__'), error=None, interrupts=(), state=None, result={'topic': 'pizza'}),), interrupts=())]"
      ]
     },
     "execution_count": 28,
     "metadata": {},
     "output_type": "execute_result"
    }
   ],
   "source": [
    "\n",
    "list(workflow.get_state_history(config1))"
   ]
  },
  {
   "cell_type": "markdown",
   "id": "2723bc9c",
   "metadata": {},
   "source": [
    "### Fault Tolerance"
   ]
  },
  {
   "cell_type": "code",
   "execution_count": null,
   "id": "bb9897ac",
   "metadata": {},
   "outputs": [],
   "source": []
  }
 ],
 "metadata": {
  "kernelspec": {
   "display_name": "langraph_env",
   "language": "python",
   "name": "python3"
  },
  "language_info": {
   "codemirror_mode": {
    "name": "ipython",
    "version": 3
   },
   "file_extension": ".py",
   "mimetype": "text/x-python",
   "name": "python",
   "nbconvert_exporter": "python",
   "pygments_lexer": "ipython3",
   "version": "3.10.9"
  }
 },
 "nbformat": 4,
 "nbformat_minor": 5
}
